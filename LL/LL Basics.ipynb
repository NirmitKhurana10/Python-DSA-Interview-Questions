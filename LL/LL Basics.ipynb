{
 "cells": [
  {
   "cell_type": "markdown",
   "id": "6b68952c",
   "metadata": {},
   "source": [
    "You are tasked with implementing a basic data structure: a singly linked list.\n",
    "\n",
    "To accomplish this, you will create two classes, Node and LinkedList.\n",
    "\n",
    "The Node class will represent an individual node within the linked list, while the LinkedList class will manage the overall list structure."
   ]
  },
  {
   "cell_type": "code",
   "execution_count": 18,
   "id": "8d7dd470",
   "metadata": {},
   "outputs": [
    {
     "name": "stdout",
     "output_type": "stream",
     "text": [
      "1\n",
      "2\n",
      "3\n",
      "4\n",
      "5\n"
     ]
    }
   ],
   "source": [
    "class node:\n",
    "    def __init__(self, value):\n",
    "        self.value = value\n",
    "        self.next = None\n",
    "    \n",
    "class LinkedList:\n",
    "    def __init__(self, value):\n",
    "        new_node = node(value)\n",
    "        self.head = new_node\n",
    "        self.tail = new_node\n",
    "        self.length = 1\n",
    "\n",
    "    def print_list(self):\n",
    "        temp = self.head\n",
    "        while temp is not None:\n",
    "            print(temp.value)\n",
    "            temp = temp.next\n",
    "\n",
    "### Append to list\n",
    "\n",
    "    def append(self, value):\n",
    "        new_node = node(value)\n",
    "        if self.length == 0:\n",
    "            self.head = new_node\n",
    "            self.tail = new_node\n",
    "        else:\n",
    "            self.tail.next = new_node\n",
    "            self.tail = new_node\n",
    "        self.length += 1\n",
    "\n",
    "    def pop(self):\n",
    "        if self.length == 0:\n",
    "            return None\n",
    "        temp = self.head\n",
    "        pre = self.head\n",
    "        while(temp.next):\n",
    "            pre = temp\n",
    "            temp = temp.next\n",
    "        self.tail = pre\n",
    "        self.tail.next = None\n",
    "        self.length -=1\n",
    "        if self.length == 0:\n",
    "            self.head = None\n",
    "            self.tail = None\n",
    "        return temp.value\n",
    "\n",
    "\n",
    "my_Linked_List = LinkedList(1)\n",
    "\n",
    "for i in range(2,6):\n",
    "    my_Linked_List.append(i)\n",
    "\n",
    "my_Linked_List.print_list()"
   ]
  },
  {
   "cell_type": "markdown",
   "id": "02d54258",
   "metadata": {},
   "source": []
  },
  {
   "cell_type": "code",
   "execution_count": 20,
   "id": "010442a2",
   "metadata": {},
   "outputs": [
    {
     "data": {
      "text/plain": [
       "4"
      ]
     },
     "execution_count": 20,
     "metadata": {},
     "output_type": "execute_result"
    }
   ],
   "source": [
    "my_Linked_List.pop()"
   ]
  }
 ],
 "metadata": {
  "kernelspec": {
   "display_name": "Python 3",
   "language": "python",
   "name": "python3"
  },
  "language_info": {
   "codemirror_mode": {
    "name": "ipython",
    "version": 3
   },
   "file_extension": ".py",
   "mimetype": "text/x-python",
   "name": "python",
   "nbconvert_exporter": "python",
   "pygments_lexer": "ipython3",
   "version": "3.11.10"
  }
 },
 "nbformat": 4,
 "nbformat_minor": 5
}
